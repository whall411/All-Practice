{
  "nbformat": 4,
  "nbformat_minor": 0,
  "metadata": {
    "colab": {
      "name": "LRtest.ipynb",
      "provenance": [],
      "authorship_tag": "ABX9TyNhzGojuSVLFZOCnBm/xsmT",
      "include_colab_link": true
    },
    "kernelspec": {
      "name": "python3",
      "display_name": "Python 3"
    },
    "language_info": {
      "name": "python"
    }
  },
  "cells": [
    {
      "cell_type": "markdown",
      "metadata": {
        "id": "view-in-github",
        "colab_type": "text"
      },
      "source": [
        "<a href=\"https://colab.research.google.com/github/whall411/All-Practice/blob/main/Courses/01%20Python%20for%20DS%20Bootcamp/11-Linear-Regression/LRtest.ipynb\" target=\"_parent\"><img src=\"https://colab.research.google.com/assets/colab-badge.svg\" alt=\"Open In Colab\"/></a>"
      ]
    },
    {
      "cell_type": "code",
      "execution_count": null,
      "metadata": {
        "id": "GR_9Nc35Z983"
      },
      "outputs": [],
      "source": [
        ""
      ]
    }
  ]
}