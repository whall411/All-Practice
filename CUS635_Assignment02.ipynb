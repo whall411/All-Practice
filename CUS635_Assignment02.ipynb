{
  "nbformat": 4,
  "nbformat_minor": 0,
  "metadata": {
    "colab": {
      "name": "CUS635_Assignment02.ipynb",
      "provenance": [],
      "include_colab_link": true
    },
    "kernelspec": {
      "name": "python3",
      "display_name": "Python 3"
    },
    "language_info": {
      "name": "python"
    }
  },
  "cells": [
    {
      "cell_type": "markdown",
      "metadata": {
        "id": "view-in-github",
        "colab_type": "text"
      },
      "source": [
        "<a href=\"https://colab.research.google.com/github/whall411/All-Practice/blob/main/CUS635_Assignment02.ipynb\" target=\"_parent\"><img src=\"https://colab.research.google.com/assets/colab-badge.svg\" alt=\"Open In Colab\"/></a>"
      ]
    },
    {
      "cell_type": "code",
      "execution_count": 1,
      "metadata": {
        "id": "SRG62u2olrJc"
      },
      "outputs": [],
      "source": [
        "import nltk\n",
        "from nltk import sent_tokenize, word_tokenize\n",
        "from nltk.corpus import stopwords\n",
        "import pandas as pd\n",
        "import gensim\n",
        "import pickle\n",
        "from gensim.models.word2vec import Word2Vec\n",
        "from sklearn.manifold import TSNE\n",
        "import warnings\n",
        "warnings.filterwarnings('ignore')"
      ]
    },
    {
      "cell_type": "code",
      "source": [
        "with open ('/content/pubmed_abstracts_assignment_2.bin', 'rb') as fp:\n",
        "    abstract_sample = pickle.load(fp)"
      ],
      "metadata": {
        "id": "_9oxwWNhsepB"
      },
      "execution_count": 2,
      "outputs": []
    },
    {
      "cell_type": "code",
      "source": [
        "nltk.download('punkt')\n",
        "nltk.download('stopwords')\n",
        "nltk.download('wordnet')"
      ],
      "metadata": {
        "colab": {
          "base_uri": "https://localhost:8080/"
        },
        "id": "4OwQUM8d3sHp",
        "outputId": "4882c263-6cf7-457a-faa9-6016d3d31977"
      },
      "execution_count": 3,
      "outputs": [
        {
          "output_type": "stream",
          "name": "stdout",
          "text": [
            "[nltk_data] Downloading package punkt to /root/nltk_data...\n",
            "[nltk_data]   Package punkt is already up-to-date!\n",
            "[nltk_data] Downloading package stopwords to /root/nltk_data...\n",
            "[nltk_data]   Package stopwords is already up-to-date!\n",
            "[nltk_data] Downloading package wordnet to /root/nltk_data...\n",
            "[nltk_data]   Package wordnet is already up-to-date!\n"
          ]
        },
        {
          "output_type": "execute_result",
          "data": {
            "text/plain": [
              "True"
            ]
          },
          "metadata": {},
          "execution_count": 3
        }
      ]
    },
    {
      "cell_type": "code",
      "source": [
        "abstract_sample[0]"
      ],
      "metadata": {
        "colab": {
          "base_uri": "https://localhost:8080/",
          "height": 70
        },
        "id": "jAePiJWK2tOO",
        "outputId": "ad547519-59cb-4d56-ed9f-18b7d57eae0f"
      },
      "execution_count": 4,
      "outputs": [
        {
          "output_type": "execute_result",
          "data": {
            "text/plain": [
              "'Intervirology. Extensively degraded RNA was isolated from virions of influenza virus which had been oxidized with sodium m-periodate. Similarly, although to a lesser extent, RNA isolated from periodate-treated ribonucleoprotein of influenza virus was also degraded. In contrast, influenza virus RNA, if first freed from other virion components, was not degraded by periodate oxidation.'"
            ],
            "application/vnd.google.colaboratory.intrinsic+json": {
              "type": "string"
            }
          },
          "metadata": {},
          "execution_count": 4
        }
      ]
    },
    {
      "cell_type": "code",
      "source": [
        "tokenized_abs_sample = []\n",
        "for sent in abstract_sample:\n",
        "  tok_sents = []\n",
        "  tokens = nltk.word_tokenize(sent)\n",
        "  for token in tokens:\n",
        "    tok_sents.append(token)\n",
        "  tokenized_abs_sample.append(tok_sents)\n",
        "tokenized_abs_sample[0:2]"
      ],
      "metadata": {
        "colab": {
          "base_uri": "https://localhost:8080/"
        },
        "id": "Yq6IRSp1zUXv",
        "outputId": "22658566-79a9-43db-e7f3-259c629f5243"
      },
      "execution_count": 5,
      "outputs": [
        {
          "output_type": "execute_result",
          "data": {
            "text/plain": [
              "[['Intervirology',\n",
              "  '.',\n",
              "  'Extensively',\n",
              "  'degraded',\n",
              "  'RNA',\n",
              "  'was',\n",
              "  'isolated',\n",
              "  'from',\n",
              "  'virions',\n",
              "  'of',\n",
              "  'influenza',\n",
              "  'virus',\n",
              "  'which',\n",
              "  'had',\n",
              "  'been',\n",
              "  'oxidized',\n",
              "  'with',\n",
              "  'sodium',\n",
              "  'm-periodate',\n",
              "  '.',\n",
              "  'Similarly',\n",
              "  ',',\n",
              "  'although',\n",
              "  'to',\n",
              "  'a',\n",
              "  'lesser',\n",
              "  'extent',\n",
              "  ',',\n",
              "  'RNA',\n",
              "  'isolated',\n",
              "  'from',\n",
              "  'periodate-treated',\n",
              "  'ribonucleoprotein',\n",
              "  'of',\n",
              "  'influenza',\n",
              "  'virus',\n",
              "  'was',\n",
              "  'also',\n",
              "  'degraded',\n",
              "  '.',\n",
              "  'In',\n",
              "  'contrast',\n",
              "  ',',\n",
              "  'influenza',\n",
              "  'virus',\n",
              "  'RNA',\n",
              "  ',',\n",
              "  'if',\n",
              "  'first',\n",
              "  'freed',\n",
              "  'from',\n",
              "  'other',\n",
              "  'virion',\n",
              "  'components',\n",
              "  ',',\n",
              "  'was',\n",
              "  'not',\n",
              "  'degraded',\n",
              "  'by',\n",
              "  'periodate',\n",
              "  'oxidation',\n",
              "  '.'],\n",
              " ['Journal',\n",
              "  'of',\n",
              "  'general',\n",
              "  'microbiology',\n",
              "  '.',\n",
              "  'Some',\n",
              "  'mutants',\n",
              "  'and',\n",
              "  'stock',\n",
              "  'strains',\n",
              "  'of',\n",
              "  'Escherichia',\n",
              "  'coli',\n",
              "  'K12',\n",
              "  'were',\n",
              "  'sensitive',\n",
              "  'to',\n",
              "  'acriflavine',\n",
              "  'in',\n",
              "  'the',\n",
              "  'presence',\n",
              "  'of',\n",
              "  'inorganic',\n",
              "  'phosphate',\n",
              "  'but',\n",
              "  'were',\n",
              "  'resistant',\n",
              "  'to',\n",
              "  'acriflavine',\n",
              "  'in',\n",
              "  'its',\n",
              "  'absence',\n",
              "  '.',\n",
              "  'They',\n",
              "  'mutated',\n",
              "  'spontaneously',\n",
              "  'to',\n",
              "  'resistance',\n",
              "  'to',\n",
              "  'acriflavine',\n",
              "  'plus',\n",
              "  'phosphate',\n",
              "  '.',\n",
              "  'The',\n",
              "  'synergistic',\n",
              "  'effect',\n",
              "  'of',\n",
              "  'phosphate',\n",
              "  'on',\n",
              "  'acriflavine',\n",
              "  'sensitivity',\n",
              "  'was',\n",
              "  'increased',\n",
              "  'at',\n",
              "  'high',\n",
              "  'pH',\n",
              "  'values',\n",
              "  '.',\n",
              "  'Genetic',\n",
              "  'analysis',\n",
              "  'suggested',\n",
              "  'that',\n",
              "  'the',\n",
              "  'mutations',\n",
              "  'occurred',\n",
              "  'in',\n",
              "  'the',\n",
              "  'gene',\n",
              "  'acrA',\n",
              "  '.',\n",
              "  'Electron',\n",
              "  'microscopic',\n",
              "  'observation',\n",
              "  'suggested',\n",
              "  'that',\n",
              "  'the',\n",
              "  'presence',\n",
              "  'of',\n",
              "  'acriflavine',\n",
              "  'plus',\n",
              "  'phosphate',\n",
              "  'affected',\n",
              "  'the',\n",
              "  'structure',\n",
              "  'of',\n",
              "  'the',\n",
              "  'plasma',\n",
              "  'membrane',\n",
              "  'and',\n",
              "  'the',\n",
              "  'cytoplasm',\n",
              "  'under',\n",
              "  'it',\n",
              "  '.',\n",
              "  'This',\n",
              "  'structural',\n",
              "  'alteration',\n",
              "  'was',\n",
              "  'not',\n",
              "  'caused',\n",
              "  'by',\n",
              "  'acriflavine',\n",
              "  'alone',\n",
              "  '.',\n",
              "  'Acridine',\n",
              "  'orange',\n",
              "  'plus',\n",
              "  'phosphate',\n",
              "  'can',\n",
              "  'more',\n",
              "  'effectively',\n",
              "  'eliminate',\n",
              "  'the',\n",
              "  'plasmid',\n",
              "  'F8-gal+',\n",
              "  'than',\n",
              "  'acridine',\n",
              "  'orange',\n",
              "  'alone',\n",
              "  '.']]"
            ]
          },
          "metadata": {},
          "execution_count": 5
        }
      ]
    },
    {
      "cell_type": "code",
      "source": [
        "def remove_punctuation(corpus):\n",
        "    punctuations = \".,\\\"-\\\\/#!?$%\\^&\\*;:{}=\\-_'~()\"    \n",
        "    filtered_corpus = [token for token in corpus if (not token in punctuations)]\n",
        "    return filtered_corpus\n",
        "\n",
        "def apply_stopwording(corpus, min_len):\n",
        "    filtered_corpus = [token.lower() for token in corpus if (not token in stopwords.words('english') and len(token)>min_len)]\n",
        "    return filtered_corpus\n",
        "\n",
        "def apply_lemmatization(corpus):\n",
        "    lemmatizer = nltk.WordNetLemmatizer()\n",
        "    normalized_corpus = [lemmatizer.lemmatize(token) for token in corpus]\n",
        "    return normalized_corpus"
      ],
      "metadata": {
        "id": "anequFBD0laf"
      },
      "execution_count": 6,
      "outputs": []
    },
    {
      "cell_type": "code",
      "source": [
        "g_sentences=[]\n",
        "# for i in range(0,1000):\n",
        "#     g_sentences.append(apply_lemmatization(apply_stopwording(remove_punctuation(tokenized_abs_sample[i]),3)))\n",
        "for sentence in tokenized_abs_sample:\n",
        "    g_sentences.append(apply_lemmatization(apply_stopwording(remove_punctuation(sentence),3)))\n",
        "g_sentences[:2]"
      ],
      "metadata": {
        "colab": {
          "base_uri": "https://localhost:8080/"
        },
        "id": "ly-2Hhdh8IS8",
        "outputId": "3955b41a-3395-4919-c855-fa50663fd7d1"
      },
      "execution_count": 7,
      "outputs": [
        {
          "output_type": "execute_result",
          "data": {
            "text/plain": [
              "[['intervirology',\n",
              "  'extensively',\n",
              "  'degraded',\n",
              "  'isolated',\n",
              "  'virion',\n",
              "  'influenza',\n",
              "  'virus',\n",
              "  'oxidized',\n",
              "  'sodium',\n",
              "  'm-periodate',\n",
              "  'similarly',\n",
              "  'although',\n",
              "  'lesser',\n",
              "  'extent',\n",
              "  'isolated',\n",
              "  'periodate-treated',\n",
              "  'ribonucleoprotein',\n",
              "  'influenza',\n",
              "  'virus',\n",
              "  'also',\n",
              "  'degraded',\n",
              "  'contrast',\n",
              "  'influenza',\n",
              "  'virus',\n",
              "  'first',\n",
              "  'freed',\n",
              "  'virion',\n",
              "  'component',\n",
              "  'degraded',\n",
              "  'periodate',\n",
              "  'oxidation'],\n",
              " ['journal',\n",
              "  'general',\n",
              "  'microbiology',\n",
              "  'some',\n",
              "  'mutant',\n",
              "  'stock',\n",
              "  'strain',\n",
              "  'escherichia',\n",
              "  'coli',\n",
              "  'sensitive',\n",
              "  'acriflavine',\n",
              "  'presence',\n",
              "  'inorganic',\n",
              "  'phosphate',\n",
              "  'resistant',\n",
              "  'acriflavine',\n",
              "  'absence',\n",
              "  'they',\n",
              "  'mutated',\n",
              "  'spontaneously',\n",
              "  'resistance',\n",
              "  'acriflavine',\n",
              "  'plus',\n",
              "  'phosphate',\n",
              "  'synergistic',\n",
              "  'effect',\n",
              "  'phosphate',\n",
              "  'acriflavine',\n",
              "  'sensitivity',\n",
              "  'increased',\n",
              "  'high',\n",
              "  'value',\n",
              "  'genetic',\n",
              "  'analysis',\n",
              "  'suggested',\n",
              "  'mutation',\n",
              "  'occurred',\n",
              "  'gene',\n",
              "  'acra',\n",
              "  'electron',\n",
              "  'microscopic',\n",
              "  'observation',\n",
              "  'suggested',\n",
              "  'presence',\n",
              "  'acriflavine',\n",
              "  'plus',\n",
              "  'phosphate',\n",
              "  'affected',\n",
              "  'structure',\n",
              "  'plasma',\n",
              "  'membrane',\n",
              "  'cytoplasm',\n",
              "  'this',\n",
              "  'structural',\n",
              "  'alteration',\n",
              "  'caused',\n",
              "  'acriflavine',\n",
              "  'alone',\n",
              "  'acridine',\n",
              "  'orange',\n",
              "  'plus',\n",
              "  'phosphate',\n",
              "  'effectively',\n",
              "  'eliminate',\n",
              "  'plasmid',\n",
              "  'f8-gal+',\n",
              "  'acridine',\n",
              "  'orange',\n",
              "  'alone']]"
            ]
          },
          "metadata": {},
          "execution_count": 7
        }
      ]
    },
    {
      "cell_type": "code",
      "source": [
        "g_sentences[2:5]"
      ],
      "metadata": {
        "colab": {
          "base_uri": "https://localhost:8080/"
        },
        "id": "2XleE1A_x_N8",
        "outputId": "9fea9f30-152f-48c0-94d6-8d16f2c36506"
      },
      "execution_count": 8,
      "outputs": [
        {
          "output_type": "execute_result",
          "data": {
            "text/plain": [
              "[['journal',\n",
              "  'pharmacy',\n",
              "  'pharmacology',\n",
              "  'interaction',\n",
              "  'series',\n",
              "  'antihistamine',\n",
              "  'monolayers',\n",
              "  'l-alpha-dipalmitoyl',\n",
              "  'lecithin',\n",
              "  'examined',\n",
              "  'increase',\n",
              "  'monolayer',\n",
              "  'surface',\n",
              "  'pressure',\n",
              "  'noted',\n",
              "  'monolayers',\n",
              "  'spread',\n",
              "  'antihistamine',\n",
              "  'solution',\n",
              "  'suggesting',\n",
              "  'penetration',\n",
              "  'film',\n",
              "  'drug',\n",
              "  'molecule',\n",
              "  'high',\n",
              "  'surface',\n",
              "  'pressure',\n",
              "  'apparent',\n",
              "  'ejection',\n",
              "  'drug',\n",
              "  'molecule',\n",
              "  'film',\n",
              "  'ability',\n",
              "  'antihistamine',\n",
              "  'increase',\n",
              "  'surface',\n",
              "  'pressure',\n",
              "  'correlated',\n",
              "  'surface',\n",
              "  'activity',\n",
              "  'air-solution',\n",
              "  'interface',\n",
              "  'effect',\n",
              "  'drug',\n",
              "  'concentration',\n",
              "  'magnitude',\n",
              "  'surface',\n",
              "  'pressure',\n",
              "  'examined',\n",
              "  'diphenhydramine',\n",
              "  'hydrochloride',\n",
              "  'application',\n",
              "  'gibbs',\n",
              "  'adsorption',\n",
              "  'equation',\n",
              "  'surface',\n",
              "  'compression',\n",
              "  'indicated',\n",
              "  'approximate',\n",
              "  'area',\n",
              "  'molecule',\n",
              "  'diphenhydramine',\n",
              "  'film',\n",
              "  'good',\n",
              "  'agreement',\n",
              "  'value',\n",
              "  'previously',\n",
              "  'obtained',\n",
              "  'air-solution',\n",
              "  'interface',\n",
              "  'preliminary',\n",
              "  'measurement',\n",
              "  'showed',\n",
              "  'surface',\n",
              "  'pressure',\n",
              "  'increase',\n",
              "  'larger',\n",
              "  'presence',\n",
              "  'phosphate',\n",
              "  'buffer',\n",
              "  'clear',\n",
              "  'whether',\n",
              "  'effect',\n",
              "  'caused',\n",
              "  'buffer',\n",
              "  'component',\n",
              "  'effect'],\n",
              " ['urology',\n",
              "  'urinary',\n",
              "  'enzyme',\n",
              "  'pattern',\n",
              "  'kidney',\n",
              "  'tissue',\n",
              "  'pattern',\n",
              "  'investigated',\n",
              "  'simultaneously',\n",
              "  'urologic',\n",
              "  'patient',\n",
              "  'contrast',\n",
              "  'renal',\n",
              "  'disorder',\n",
              "  'sixteen',\n",
              "  'malignant',\n",
              "  'tumor',\n",
              "  'kidney',\n",
              "  'showed',\n",
              "  'significant',\n",
              "  'drop',\n",
              "  'gamma-gt',\n",
              "  'tumor',\n",
              "  'tissue',\n",
              "  'urine',\n",
              "  'urinary',\n",
              "  'enzymology',\n",
              "  'used',\n",
              "  'screening',\n",
              "  'test',\n",
              "  'measurement',\n",
              "  'gamma-gt',\n",
              "  'urine',\n",
              "  'however',\n",
              "  'permit',\n",
              "  'diagnosis',\n",
              "  'kidney',\n",
              "  'tumor'],\n",
              " ['archive',\n",
              "  'virology',\n",
              "  'growth',\n",
              "  'avian',\n",
              "  'infectious',\n",
              "  'bronchitis',\n",
              "  'virus',\n",
              "  'chick',\n",
              "  'kidney',\n",
              "  'cell',\n",
              "  'different',\n",
              "  'value',\n",
              "  'range',\n",
              "  '6.0-9.0',\n",
              "  'demonstrated',\n",
              "  'although',\n",
              "  'virus',\n",
              "  'released',\n",
              "  'much',\n",
              "  'faster',\n",
              "  'rate',\n",
              "  'higher',\n",
              "  'value',\n",
              "  'titre',\n",
              "  'tended',\n",
              "  'drop',\n",
              "  'quickly',\n",
              "  'acid',\n",
              "  'value',\n",
              "  'virus',\n",
              "  'released',\n",
              "  'slowly',\n",
              "  'reached',\n",
              "  'maximum',\n",
              "  'titre',\n",
              "  'similar',\n",
              "  'higher',\n",
              "  'value',\n",
              "  'showed',\n",
              "  'minimum',\n",
              "  'reduction',\n",
              "  'infectivity',\n",
              "  'hour',\n",
              "  'post',\n",
              "  'inoculation',\n",
              "  'stability',\n",
              "  'virus',\n",
              "  'tissue',\n",
              "  'culture',\n",
              "  'medium',\n",
              "  'shown',\n",
              "  'directly',\n",
              "  'related',\n",
              "  '6.0-8.0',\n",
              "  'stable',\n",
              "  'acid',\n",
              "  'value',\n",
              "  'degree',\n",
              "  'cytopathogenicity',\n",
              "  'induced',\n",
              "  'chick',\n",
              "  'kidney',\n",
              "  'cell',\n",
              "  'following',\n",
              "  'infection',\n",
              "  'directly',\n",
              "  'related',\n",
              "  'cell',\n",
              "  'incubated',\n",
              "  'occurring',\n",
              "  'earlier',\n",
              "  'extensively',\n",
              "  'cell',\n",
              "  'higher',\n",
              "  'value',\n",
              "  'cell',\n",
              "  'macromolecule',\n",
              "  'synthesis',\n",
              "  'chick',\n",
              "  'kidney',\n",
              "  'cell',\n",
              "  'inhibited',\n",
              "  'following',\n",
              "  'infection',\n",
              "  'apparently',\n",
              "  'cell',\n",
              "  'damage',\n",
              "  'death']]"
            ]
          },
          "metadata": {},
          "execution_count": 8
        }
      ]
    },
    {
      "cell_type": "code",
      "source": [
        "w2v_model = Word2Vec(sentences=g_sentences, size=1024, sg=1, window = 2, min_count=5, seed = 20, workers=10)\n",
        "w2v_model2 = Word2Vec(sentences=g_sentences, size=1024, sg=0, window = 2, min_count=5, seed = 20, workers=10)\n",
        "w2v_model3 = Word2Vec(sentences=g_sentences, size=1024, sg=1, window = 5, min_count=5, seed = 20, workers=10)\n",
        "w2v_model4 = Word2Vec(sentences=g_sentences, size=1024, sg=0, window = 5, min_count=5, seed = 20, workers=10)\n",
        "w2v_model5 = Word2Vec(sentences=g_sentences, size=1024, sg=1, window = 10, min_count=5, seed = 20, workers=10)\n",
        "w2v_model6 = Word2Vec(sentences=g_sentences, size=1024, sg=0, window = 10, min_count=5, seed = 20, workers=10)\n",
        "w2v_model7 = Word2Vec(sentences=g_sentences, size=1024, sg=1, window = 20, min_count=5, seed = 20, workers=10)\n",
        "w2v_model8 = Word2Vec(sentences=g_sentences, size=1024, sg=0, window = 20, min_count=5, seed = 20, workers=10)\n",
        "#You can save the model so you can reuse it later\n",
        "w2v_model.save('/content/gutenberg.w2v')\n",
        "\n",
        "#You can reload a saved model\n",
        "#w2v_model = gensim.models.Word2Vec.load('./models/gutenberg.w2v')"
      ],
      "metadata": {
        "id": "EeggKHvf8_ot"
      },
      "execution_count": 10,
      "outputs": []
    },
    {
      "cell_type": "code",
      "source": [
        "w2v_model.wv.most_similar('health')"
      ],
      "metadata": {
        "colab": {
          "base_uri": "https://localhost:8080/"
        },
        "id": "NZo5wkm9Cl7a",
        "outputId": "b7343f1a-cdf7-49ce-fd98-32a3677d050b"
      },
      "execution_count": 22,
      "outputs": [
        {
          "output_type": "execute_result",
          "data": {
            "text/plain": [
              "[('health-care', 0.6631286144256592),\n",
              " ('healthcare', 0.640657901763916),\n",
              " ('workforce', 0.6279890537261963),\n",
              " ('non-government', 0.6258804798126221),\n",
              " ('financing', 0.6242932677268982),\n",
              " ('hmo', 0.6237767934799194),\n",
              " ('welfare', 0.6236759424209595),\n",
              " ('equity', 0.6202001571655273),\n",
              " ('finance', 0.6183246970176697),\n",
              " ('heath', 0.6162664890289307)]"
            ]
          },
          "metadata": {},
          "execution_count": 22
        }
      ]
    },
    {
      "cell_type": "code",
      "source": [
        "print(w2v_model.wv.most_similar(positive=['virus','viral'], negative=['health'],topn=5))"
      ],
      "metadata": {
        "colab": {
          "base_uri": "https://localhost:8080/"
        },
        "id": "D3kYKk3-GsYx",
        "outputId": "4d5c0a86-829a-471f-c723-530ae6eba436"
      },
      "execution_count": 12,
      "outputs": [
        {
          "output_type": "stream",
          "name": "stdout",
          "text": [
            "[('virion', 0.5292775630950928), ('hsv-1', 0.5051867961883545), ('hiv-1', 0.48894622921943665), ('vaccinia', 0.48697054386138916), ('coronavirus', 0.483731746673584)]\n"
          ]
        }
      ]
    },
    {
      "cell_type": "code",
      "source": [
        "print(w2v_model.wv.most_similar(positive=['coronavirus','viral'], negative=['health'],topn=5))"
      ],
      "metadata": {
        "id": "5sKQJ7DSIiRA",
        "colab": {
          "base_uri": "https://localhost:8080/"
        },
        "outputId": "15d2a2c0-6bbd-4f74-d742-31072b63270b"
      },
      "execution_count": 13,
      "outputs": [
        {
          "output_type": "stream",
          "name": "stdout",
          "text": [
            "[('sars-cov', 0.6270827651023865), ('vaccinia', 0.6117479801177979), ('tgev', 0.6095038652420044), ('kshv', 0.5953326225280762), ('sindbis', 0.5944874286651611)]\n"
          ]
        }
      ]
    },
    {
      "cell_type": "code",
      "source": [
        "print(w2v_model.wv.most_similar(positive=['death','viral'], negative=['health'],topn=5))"
      ],
      "metadata": {
        "colab": {
          "base_uri": "https://localhost:8080/"
        },
        "id": "8NvRM6fX63nf",
        "outputId": "934ee308-c3c2-43d9-e28b-86d748db4e14"
      },
      "execution_count": 16,
      "outputs": [
        {
          "output_type": "stream",
          "name": "stdout",
          "text": [
            "[('virus', 0.3954930901527405), ('superinfection', 0.3923179805278778), ('sars-cov', 0.3881363272666931), ('virus-induced', 0.38253819942474365), ('virion', 0.37931138277053833)]\n"
          ]
        }
      ]
    },
    {
      "cell_type": "code",
      "source": [
        "print(w2v_model.wv.most_similar(positive=['healthy','recovered'], negative=['well'],topn=5))"
      ],
      "metadata": {
        "colab": {
          "base_uri": "https://localhost:8080/"
        },
        "id": "jOeYJflO7Kap",
        "outputId": "59d833ad-4cf1-428d-c1f3-ccef9d3253a4"
      },
      "execution_count": 18,
      "outputs": [
        {
          "output_type": "stream",
          "name": "stdout",
          "text": [
            "[('pcr-positive', 0.4669862687587738), ('non-infected', 0.46167150139808655), ('anemic', 0.4614335298538208), ('unvaccinated', 0.4457401633262634), ('nonvaccinated', 0.4451137185096741)]\n"
          ]
        }
      ]
    },
    {
      "cell_type": "code",
      "source": [
        "print(w2v_model.wv.most_similar(positive=['good','drug'], negative=['well'],topn=5))"
      ],
      "metadata": {
        "colab": {
          "base_uri": "https://localhost:8080/"
        },
        "id": "ek2OHLV97adI",
        "outputId": "c18e4d7a-b08c-484f-9552-e87e050fc3e3"
      },
      "execution_count": 19,
      "outputs": [
        {
          "output_type": "stream",
          "name": "stdout",
          "text": [
            "[('excellent', 0.4897041916847229), ('aeds', 0.3919188380241394), ('satisfactory', 0.38673466444015503), ('sedative', 0.38136687874794006), ('biologics', 0.38086360692977905)]\n"
          ]
        }
      ]
    },
    {
      "cell_type": "code",
      "source": [
        "print(w2v_model.wv.most_similar(positive=['test','death'], negative=['well'],topn=5))"
      ],
      "metadata": {
        "colab": {
          "base_uri": "https://localhost:8080/"
        },
        "id": "sDMdZHWp7z3j",
        "outputId": "eaf7012d-8d1f-4408-ed4f-26e08cd65e43"
      },
      "execution_count": 21,
      "outputs": [
        {
          "output_type": "stream",
          "name": "stdout",
          "text": [
            "[('testing', 0.35594940185546875), ('fatality', 0.3274809420108795), ('mortality', 0.2971121668815613), ('notification', 0.2853301763534546), ('dying', 0.28333884477615356)]\n"
          ]
        }
      ]
    },
    {
      "cell_type": "code",
      "source": [
        "print(w2v_model.wv.most_similar(positive=['hmo','health'], negative=['infection'],topn=5))"
      ],
      "metadata": {
        "colab": {
          "base_uri": "https://localhost:8080/"
        },
        "id": "BO9BEm3e8PWk",
        "outputId": "7f2f3fdf-9c97-41d3-dbc8-eeb956776dc7"
      },
      "execution_count": 24,
      "outputs": [
        {
          "output_type": "stream",
          "name": "stdout",
          "text": [
            "[('finance', 0.6996766924858093), ('nonprofit', 0.6954123377799988), ('accountability', 0.6905676126480103), ('workforce', 0.6847497820854187), ('subsidy', 0.6846397519111633)]\n"
          ]
        }
      ]
    },
    {
      "cell_type": "code",
      "source": [
        ""
      ],
      "metadata": {
        "id": "RyWV6-jP80On"
      },
      "execution_count": null,
      "outputs": []
    }
  ]
}